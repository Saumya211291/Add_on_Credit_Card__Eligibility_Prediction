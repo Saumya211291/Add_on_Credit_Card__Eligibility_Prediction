{
 "cells": [
  {
   "cell_type": "code",
   "execution_count": 1,
   "id": "1b08fda6",
   "metadata": {
    "_cell_guid": "b1076dfc-b9ad-4769-8c92-a6c4dae69d19",
    "_uuid": "8f2839f25d086af736a60e9eeb907d3b93b6e0e5",
    "execution": {
     "iopub.execute_input": "2021-10-07T09:12:26.650340Z",
     "iopub.status.busy": "2021-10-07T09:12:26.646029Z",
     "iopub.status.idle": "2021-10-07T09:12:26.666158Z",
     "shell.execute_reply": "2021-10-07T09:12:26.666633Z",
     "shell.execute_reply.started": "2021-10-04T08:29:00.079686Z"
    },
    "papermill": {
     "duration": 0.082031,
     "end_time": "2021-10-07T09:12:26.666981",
     "exception": false,
     "start_time": "2021-10-07T09:12:26.584950",
     "status": "completed"
    },
    "tags": []
   },
   "outputs": [
    {
     "name": "stdout",
     "output_type": "stream",
     "text": [
      "/kaggle/input/credit-card-customers/BankChurners.csv\n"
     ]
    }
   ],
   "source": [
    "# This Python 3 environment comes with many helpful analytics libraries installed\n",
    "# It is defined by the kaggle/python Docker image: https://github.com/kaggle/docker-python\n",
    "# For example, here's several helpful packages to load\n",
    "\n",
    "import numpy as np # linear algebra\n",
    "import pandas as pd # data processing, CSV file I/O (e.g. pd.read_csv)\n",
    "\n",
    "# Input data files are available in the read-only \"../input/\" directory\n",
    "# For example, running this (by clicking run or pressing Shift+Enter) will list all files under the input directory\n",
    "\n",
    "import os\n",
    "for dirname, _, filenames in os.walk('/kaggle/input'):\n",
    "    for filename in filenames:\n",
    "        print(os.path.join(dirname, filename))\n",
    "\n",
    "# You can write up to 20GB to the current directory (/kaggle/working/) that gets preserved as output when you create a version using \"Save & Run All\" \n",
    "# You can also write temporary files to /kaggle/temp/, but they won't be saved outside of the current session"
   ]
  },
  {
   "cell_type": "code",
   "execution_count": 2,
   "id": "b348cfdc",
   "metadata": {
    "execution": {
     "iopub.execute_input": "2021-10-07T09:12:26.747042Z",
     "iopub.status.busy": "2021-10-07T09:12:26.746057Z",
     "iopub.status.idle": "2021-10-07T09:12:27.992938Z",
     "shell.execute_reply": "2021-10-07T09:12:27.992267Z",
     "shell.execute_reply.started": "2021-10-04T08:29:00.123324Z"
    },
    "papermill": {
     "duration": 1.286824,
     "end_time": "2021-10-07T09:12:27.993080",
     "exception": false,
     "start_time": "2021-10-07T09:12:26.706256",
     "status": "completed"
    },
    "tags": []
   },
   "outputs": [],
   "source": [
    "## importing the necessray libraries\n",
    "\n",
    "import matplotlib.pyplot as plt\n",
    "import seaborn as sns\n",
    "from scipy import stats\n",
    "from sklearn.preprocessing import LabelEncoder\n",
    "from sklearn.compose import ColumnTransformer\n",
    "from sklearn.preprocessing import OneHotEncoder\n",
    "from sklearn.model_selection import train_test_split\n",
    "from sklearn.preprocessing import StandardScaler\n",
    "from sklearn.linear_model import LogisticRegression\n",
    "from sklearn.metrics import confusion_matrix, accuracy_score\n",
    "from sklearn.ensemble import RandomForestClassifier"
   ]
  },
  {
   "cell_type": "code",
   "execution_count": 3,
   "id": "a4e0f656",
   "metadata": {
    "execution": {
     "iopub.execute_input": "2021-10-07T09:12:28.073905Z",
     "iopub.status.busy": "2021-10-07T09:12:28.073235Z",
     "iopub.status.idle": "2021-10-07T09:12:28.135087Z",
     "shell.execute_reply": "2021-10-07T09:12:28.134504Z",
     "shell.execute_reply.started": "2021-10-04T08:29:01.608561Z"
    },
    "papermill": {
     "duration": 0.104996,
     "end_time": "2021-10-07T09:12:28.135235",
     "exception": false,
     "start_time": "2021-10-07T09:12:28.030239",
     "status": "completed"
    },
    "tags": []
   },
   "outputs": [],
   "source": [
    "data = pd.read_csv('/kaggle/input/credit-card-customers/BankChurners.csv')"
   ]
  },
  {
   "cell_type": "code",
   "execution_count": 4,
   "id": "0ce64ad7",
   "metadata": {
    "execution": {
     "iopub.execute_input": "2021-10-07T09:12:28.219780Z",
     "iopub.status.busy": "2021-10-07T09:12:28.218954Z",
     "iopub.status.idle": "2021-10-07T09:12:28.222504Z",
     "shell.execute_reply": "2021-10-07T09:12:28.223000Z",
     "shell.execute_reply.started": "2021-10-04T08:29:01.691606Z"
    },
    "papermill": {
     "duration": 0.049858,
     "end_time": "2021-10-07T09:12:28.223174",
     "exception": false,
     "start_time": "2021-10-07T09:12:28.173316",
     "status": "completed"
    },
    "tags": []
   },
   "outputs": [
    {
     "data": {
      "text/plain": [
       "Index(['CLIENTNUM', 'Attrition_Flag', 'Customer_Age', 'Gender',\n",
       "       'Dependent_count', 'Education_Level', 'Marital_Status',\n",
       "       'Income_Category', 'Card_Category', 'Months_on_book',\n",
       "       'Total_Relationship_Count', 'Months_Inactive_12_mon',\n",
       "       'Contacts_Count_12_mon', 'Credit_Limit', 'Total_Revolving_Bal',\n",
       "       'Avg_Open_To_Buy', 'Total_Amt_Chng_Q4_Q1', 'Total_Trans_Amt',\n",
       "       'Total_Trans_Ct', 'Total_Ct_Chng_Q4_Q1', 'Avg_Utilization_Ratio',\n",
       "       'Naive_Bayes_Classifier_Attrition_Flag_Card_Category_Contacts_Count_12_mon_Dependent_count_Education_Level_Months_Inactive_12_mon_1',\n",
       "       'Naive_Bayes_Classifier_Attrition_Flag_Card_Category_Contacts_Count_12_mon_Dependent_count_Education_Level_Months_Inactive_12_mon_2'],\n",
       "      dtype='object')"
      ]
     },
     "execution_count": 4,
     "metadata": {},
     "output_type": "execute_result"
    }
   ],
   "source": [
    "data.columns"
   ]
  },
  {
   "cell_type": "code",
   "execution_count": 5,
   "id": "7ae969d7",
   "metadata": {
    "execution": {
     "iopub.execute_input": "2021-10-07T09:12:28.309334Z",
     "iopub.status.busy": "2021-10-07T09:12:28.306740Z",
     "iopub.status.idle": "2021-10-07T09:12:28.318606Z",
     "shell.execute_reply": "2021-10-07T09:12:28.318113Z",
     "shell.execute_reply.started": "2021-10-04T08:29:01.703215Z"
    },
    "papermill": {
     "duration": 0.058182,
     "end_time": "2021-10-07T09:12:28.318755",
     "exception": false,
     "start_time": "2021-10-07T09:12:28.260573",
     "status": "completed"
    },
    "tags": []
   },
   "outputs": [
    {
     "data": {
      "text/plain": [
       "0        0.999910\n",
       "1        0.999940\n",
       "2        0.999980\n",
       "3        0.999870\n",
       "4        0.999980\n",
       "           ...   \n",
       "10122    0.999810\n",
       "10123    0.004729\n",
       "10124    0.002118\n",
       "10125    0.003294\n",
       "10126    0.003377\n",
       "Name: Naive_Bayes_Classifier_Attrition_Flag_Card_Category_Contacts_Count_12_mon_Dependent_count_Education_Level_Months_Inactive_12_mon_2, Length: 10127, dtype: float64"
      ]
     },
     "execution_count": 5,
     "metadata": {},
     "output_type": "execute_result"
    }
   ],
   "source": [
    "data.pop('CLIENTNUM')\n",
    "data.pop('Naive_Bayes_Classifier_Attrition_Flag_Card_Category_Contacts_Count_12_mon_Dependent_count_Education_Level_Months_Inactive_12_mon_1')\n",
    "data.pop('Naive_Bayes_Classifier_Attrition_Flag_Card_Category_Contacts_Count_12_mon_Dependent_count_Education_Level_Months_Inactive_12_mon_2')"
   ]
  },
  {
   "cell_type": "code",
   "execution_count": 6,
   "id": "e8c47ade",
   "metadata": {
    "execution": {
     "iopub.execute_input": "2021-10-07T09:12:28.398307Z",
     "iopub.status.busy": "2021-10-07T09:12:28.397627Z",
     "iopub.status.idle": "2021-10-07T09:12:28.421131Z",
     "shell.execute_reply": "2021-10-07T09:12:28.421715Z",
     "shell.execute_reply.started": "2021-10-04T08:29:01.729144Z"
    },
    "papermill": {
     "duration": 0.064833,
     "end_time": "2021-10-07T09:12:28.421900",
     "exception": false,
     "start_time": "2021-10-07T09:12:28.357067",
     "status": "completed"
    },
    "tags": []
   },
   "outputs": [
    {
     "data": {
      "text/html": [
       "<div>\n",
       "<style scoped>\n",
       "    .dataframe tbody tr th:only-of-type {\n",
       "        vertical-align: middle;\n",
       "    }\n",
       "\n",
       "    .dataframe tbody tr th {\n",
       "        vertical-align: top;\n",
       "    }\n",
       "\n",
       "    .dataframe thead th {\n",
       "        text-align: right;\n",
       "    }\n",
       "</style>\n",
       "<table border=\"1\" class=\"dataframe\">\n",
       "  <thead>\n",
       "    <tr style=\"text-align: right;\">\n",
       "      <th></th>\n",
       "      <th>Attrition_Flag</th>\n",
       "      <th>Customer_Age</th>\n",
       "      <th>Gender</th>\n",
       "      <th>Dependent_count</th>\n",
       "      <th>Education_Level</th>\n",
       "      <th>Marital_Status</th>\n",
       "      <th>Income_Category</th>\n",
       "      <th>Card_Category</th>\n",
       "      <th>Months_on_book</th>\n",
       "      <th>Total_Relationship_Count</th>\n",
       "      <th>Months_Inactive_12_mon</th>\n",
       "      <th>Contacts_Count_12_mon</th>\n",
       "      <th>Credit_Limit</th>\n",
       "      <th>Total_Revolving_Bal</th>\n",
       "      <th>Avg_Open_To_Buy</th>\n",
       "      <th>Total_Amt_Chng_Q4_Q1</th>\n",
       "      <th>Total_Trans_Amt</th>\n",
       "      <th>Total_Trans_Ct</th>\n",
       "      <th>Total_Ct_Chng_Q4_Q1</th>\n",
       "      <th>Avg_Utilization_Ratio</th>\n",
       "    </tr>\n",
       "  </thead>\n",
       "  <tbody>\n",
       "    <tr>\n",
       "      <th>0</th>\n",
       "      <td>Existing Customer</td>\n",
       "      <td>45</td>\n",
       "      <td>M</td>\n",
       "      <td>3</td>\n",
       "      <td>High School</td>\n",
       "      <td>Married</td>\n",
       "      <td>$60K - $80K</td>\n",
       "      <td>Blue</td>\n",
       "      <td>39</td>\n",
       "      <td>5</td>\n",
       "      <td>1</td>\n",
       "      <td>3</td>\n",
       "      <td>12691.0</td>\n",
       "      <td>777</td>\n",
       "      <td>11914.0</td>\n",
       "      <td>1.335</td>\n",
       "      <td>1144</td>\n",
       "      <td>42</td>\n",
       "      <td>1.625</td>\n",
       "      <td>0.061</td>\n",
       "    </tr>\n",
       "    <tr>\n",
       "      <th>1</th>\n",
       "      <td>Existing Customer</td>\n",
       "      <td>49</td>\n",
       "      <td>F</td>\n",
       "      <td>5</td>\n",
       "      <td>Graduate</td>\n",
       "      <td>Single</td>\n",
       "      <td>Less than $40K</td>\n",
       "      <td>Blue</td>\n",
       "      <td>44</td>\n",
       "      <td>6</td>\n",
       "      <td>1</td>\n",
       "      <td>2</td>\n",
       "      <td>8256.0</td>\n",
       "      <td>864</td>\n",
       "      <td>7392.0</td>\n",
       "      <td>1.541</td>\n",
       "      <td>1291</td>\n",
       "      <td>33</td>\n",
       "      <td>3.714</td>\n",
       "      <td>0.105</td>\n",
       "    </tr>\n",
       "    <tr>\n",
       "      <th>2</th>\n",
       "      <td>Existing Customer</td>\n",
       "      <td>51</td>\n",
       "      <td>M</td>\n",
       "      <td>3</td>\n",
       "      <td>Graduate</td>\n",
       "      <td>Married</td>\n",
       "      <td>$80K - $120K</td>\n",
       "      <td>Blue</td>\n",
       "      <td>36</td>\n",
       "      <td>4</td>\n",
       "      <td>1</td>\n",
       "      <td>0</td>\n",
       "      <td>3418.0</td>\n",
       "      <td>0</td>\n",
       "      <td>3418.0</td>\n",
       "      <td>2.594</td>\n",
       "      <td>1887</td>\n",
       "      <td>20</td>\n",
       "      <td>2.333</td>\n",
       "      <td>0.000</td>\n",
       "    </tr>\n",
       "    <tr>\n",
       "      <th>3</th>\n",
       "      <td>Existing Customer</td>\n",
       "      <td>40</td>\n",
       "      <td>F</td>\n",
       "      <td>4</td>\n",
       "      <td>High School</td>\n",
       "      <td>Unknown</td>\n",
       "      <td>Less than $40K</td>\n",
       "      <td>Blue</td>\n",
       "      <td>34</td>\n",
       "      <td>3</td>\n",
       "      <td>4</td>\n",
       "      <td>1</td>\n",
       "      <td>3313.0</td>\n",
       "      <td>2517</td>\n",
       "      <td>796.0</td>\n",
       "      <td>1.405</td>\n",
       "      <td>1171</td>\n",
       "      <td>20</td>\n",
       "      <td>2.333</td>\n",
       "      <td>0.760</td>\n",
       "    </tr>\n",
       "    <tr>\n",
       "      <th>4</th>\n",
       "      <td>Existing Customer</td>\n",
       "      <td>40</td>\n",
       "      <td>M</td>\n",
       "      <td>3</td>\n",
       "      <td>Uneducated</td>\n",
       "      <td>Married</td>\n",
       "      <td>$60K - $80K</td>\n",
       "      <td>Blue</td>\n",
       "      <td>21</td>\n",
       "      <td>5</td>\n",
       "      <td>1</td>\n",
       "      <td>0</td>\n",
       "      <td>4716.0</td>\n",
       "      <td>0</td>\n",
       "      <td>4716.0</td>\n",
       "      <td>2.175</td>\n",
       "      <td>816</td>\n",
       "      <td>28</td>\n",
       "      <td>2.500</td>\n",
       "      <td>0.000</td>\n",
       "    </tr>\n",
       "  </tbody>\n",
       "</table>\n",
       "</div>"
      ],
      "text/plain": [
       "      Attrition_Flag  Customer_Age Gender  Dependent_count Education_Level  \\\n",
       "0  Existing Customer            45      M                3     High School   \n",
       "1  Existing Customer            49      F                5        Graduate   \n",
       "2  Existing Customer            51      M                3        Graduate   \n",
       "3  Existing Customer            40      F                4     High School   \n",
       "4  Existing Customer            40      M                3      Uneducated   \n",
       "\n",
       "  Marital_Status Income_Category Card_Category  Months_on_book  \\\n",
       "0        Married     $60K - $80K          Blue              39   \n",
       "1         Single  Less than $40K          Blue              44   \n",
       "2        Married    $80K - $120K          Blue              36   \n",
       "3        Unknown  Less than $40K          Blue              34   \n",
       "4        Married     $60K - $80K          Blue              21   \n",
       "\n",
       "   Total_Relationship_Count  Months_Inactive_12_mon  Contacts_Count_12_mon  \\\n",
       "0                         5                       1                      3   \n",
       "1                         6                       1                      2   \n",
       "2                         4                       1                      0   \n",
       "3                         3                       4                      1   \n",
       "4                         5                       1                      0   \n",
       "\n",
       "   Credit_Limit  Total_Revolving_Bal  Avg_Open_To_Buy  Total_Amt_Chng_Q4_Q1  \\\n",
       "0       12691.0                  777          11914.0                 1.335   \n",
       "1        8256.0                  864           7392.0                 1.541   \n",
       "2        3418.0                    0           3418.0                 2.594   \n",
       "3        3313.0                 2517            796.0                 1.405   \n",
       "4        4716.0                    0           4716.0                 2.175   \n",
       "\n",
       "   Total_Trans_Amt  Total_Trans_Ct  Total_Ct_Chng_Q4_Q1  Avg_Utilization_Ratio  \n",
       "0             1144              42                1.625                  0.061  \n",
       "1             1291              33                3.714                  0.105  \n",
       "2             1887              20                2.333                  0.000  \n",
       "3             1171              20                2.333                  0.760  \n",
       "4              816              28                2.500                  0.000  "
      ]
     },
     "execution_count": 6,
     "metadata": {},
     "output_type": "execute_result"
    }
   ],
   "source": [
    "data.head()"
   ]
  },
  {
   "cell_type": "code",
   "execution_count": 7,
   "id": "449550af",
   "metadata": {
    "execution": {
     "iopub.execute_input": "2021-10-07T09:12:28.501823Z",
     "iopub.status.busy": "2021-10-07T09:12:28.501139Z",
     "iopub.status.idle": "2021-10-07T09:12:28.526868Z",
     "shell.execute_reply": "2021-10-07T09:12:28.527579Z",
     "shell.execute_reply.started": "2021-10-04T08:29:01.760736Z"
    },
    "papermill": {
     "duration": 0.067701,
     "end_time": "2021-10-07T09:12:28.527785",
     "exception": false,
     "start_time": "2021-10-07T09:12:28.460084",
     "status": "completed"
    },
    "tags": []
   },
   "outputs": [
    {
     "name": "stdout",
     "output_type": "stream",
     "text": [
      "<class 'pandas.core.frame.DataFrame'>\n",
      "RangeIndex: 10127 entries, 0 to 10126\n",
      "Data columns (total 20 columns):\n",
      " #   Column                    Non-Null Count  Dtype  \n",
      "---  ------                    --------------  -----  \n",
      " 0   Attrition_Flag            10127 non-null  object \n",
      " 1   Customer_Age              10127 non-null  int64  \n",
      " 2   Gender                    10127 non-null  object \n",
      " 3   Dependent_count           10127 non-null  int64  \n",
      " 4   Education_Level           10127 non-null  object \n",
      " 5   Marital_Status            10127 non-null  object \n",
      " 6   Income_Category           10127 non-null  object \n",
      " 7   Card_Category             10127 non-null  object \n",
      " 8   Months_on_book            10127 non-null  int64  \n",
      " 9   Total_Relationship_Count  10127 non-null  int64  \n",
      " 10  Months_Inactive_12_mon    10127 non-null  int64  \n",
      " 11  Contacts_Count_12_mon     10127 non-null  int64  \n",
      " 12  Credit_Limit              10127 non-null  float64\n",
      " 13  Total_Revolving_Bal       10127 non-null  int64  \n",
      " 14  Avg_Open_To_Buy           10127 non-null  float64\n",
      " 15  Total_Amt_Chng_Q4_Q1      10127 non-null  float64\n",
      " 16  Total_Trans_Amt           10127 non-null  int64  \n",
      " 17  Total_Trans_Ct            10127 non-null  int64  \n",
      " 18  Total_Ct_Chng_Q4_Q1       10127 non-null  float64\n",
      " 19  Avg_Utilization_Ratio     10127 non-null  float64\n",
      "dtypes: float64(5), int64(9), object(6)\n",
      "memory usage: 1.5+ MB\n"
     ]
    }
   ],
   "source": [
    "data.info()"
   ]
  },
  {
   "cell_type": "code",
   "execution_count": 8,
   "id": "18721b39",
   "metadata": {
    "execution": {
     "iopub.execute_input": "2021-10-07T09:12:28.632387Z",
     "iopub.status.busy": "2021-10-07T09:12:28.631443Z",
     "iopub.status.idle": "2021-10-07T09:12:28.653737Z",
     "shell.execute_reply": "2021-10-07T09:12:28.654587Z",
     "shell.execute_reply.started": "2021-10-04T08:29:01.795796Z"
    },
    "papermill": {
     "duration": 0.082716,
     "end_time": "2021-10-07T09:12:28.654793",
     "exception": false,
     "start_time": "2021-10-07T09:12:28.572077",
     "status": "completed"
    },
    "tags": []
   },
   "outputs": [
    {
     "data": {
      "text/plain": [
       "Attrition_Flag              0\n",
       "Customer_Age                0\n",
       "Gender                      0\n",
       "Dependent_count             0\n",
       "Education_Level             0\n",
       "Marital_Status              0\n",
       "Income_Category             0\n",
       "Card_Category               0\n",
       "Months_on_book              0\n",
       "Total_Relationship_Count    0\n",
       "Months_Inactive_12_mon      0\n",
       "Contacts_Count_12_mon       0\n",
       "Credit_Limit                0\n",
       "Total_Revolving_Bal         0\n",
       "Avg_Open_To_Buy             0\n",
       "Total_Amt_Chng_Q4_Q1        0\n",
       "Total_Trans_Amt             0\n",
       "Total_Trans_Ct              0\n",
       "Total_Ct_Chng_Q4_Q1         0\n",
       "Avg_Utilization_Ratio       0\n",
       "dtype: int64"
      ]
     },
     "execution_count": 8,
     "metadata": {},
     "output_type": "execute_result"
    }
   ],
   "source": [
    "data.isnull().sum()"
   ]
  },
  {
   "cell_type": "code",
   "execution_count": 9,
   "id": "6c1034c6",
   "metadata": {
    "execution": {
     "iopub.execute_input": "2021-10-07T09:12:28.754845Z",
     "iopub.status.busy": "2021-10-07T09:12:28.754119Z",
     "iopub.status.idle": "2021-10-07T09:12:28.874596Z",
     "shell.execute_reply": "2021-10-07T09:12:28.875104Z",
     "shell.execute_reply.started": "2021-10-04T08:29:01.815883Z"
    },
    "papermill": {
     "duration": 0.171523,
     "end_time": "2021-10-07T09:12:28.875289",
     "exception": false,
     "start_time": "2021-10-07T09:12:28.703766",
     "status": "completed"
    },
    "tags": []
   },
   "outputs": [
    {
     "data": {
      "text/html": [
       "        <script type=\"text/javascript\">\n",
       "        window.PlotlyConfig = {MathJaxConfig: 'local'};\n",
       "        if (window.MathJax) {MathJax.Hub.Config({SVG: {font: \"STIX-Web\"}});}\n",
       "        if (typeof require !== 'undefined') {\n",
       "        require.undef(\"plotly\");\n",
       "        requirejs.config({\n",
       "            paths: {\n",
       "                'plotly': ['https://cdn.plot.ly/plotly-2.4.2.min']\n",
       "            }\n",
       "        });\n",
       "        require(['plotly'], function(Plotly) {\n",
       "            window._Plotly = Plotly;\n",
       "        });\n",
       "        }\n",
       "        </script>\n",
       "        "
      ]
     },
     "metadata": {},
     "output_type": "display_data"
    },
    {
     "data": {
      "text/html": [
       "<div>                            <div id=\"eeba46d1-8dfb-43dc-b89a-15ddc811de9a\" class=\"plotly-graph-div\" style=\"height:525px; width:100%;\"></div>            <script type=\"text/javascript\">                require([\"plotly\"], function(Plotly) {                    window.PLOTLYENV=window.PLOTLYENV || {};                                    if (document.getElementById(\"eeba46d1-8dfb-43dc-b89a-15ddc811de9a\")) {                    Plotly.newPlot(                        \"eeba46d1-8dfb-43dc-b89a-15ddc811de9a\",                        [{\"hovertemplate\":\"%{value} <br>%{label}\",\"labels\":[\"F\",\"M\"],\"name\":\"\",\"type\":\"pie\",\"values\":[5358,4769]}],                        {\"template\":{\"data\":{\"bar\":[{\"error_x\":{\"color\":\"#2a3f5f\"},\"error_y\":{\"color\":\"#2a3f5f\"},\"marker\":{\"line\":{\"color\":\"#E5ECF6\",\"width\":0.5},\"pattern\":{\"fillmode\":\"overlay\",\"size\":10,\"solidity\":0.2}},\"type\":\"bar\"}],\"barpolar\":[{\"marker\":{\"line\":{\"color\":\"#E5ECF6\",\"width\":0.5},\"pattern\":{\"fillmode\":\"overlay\",\"size\":10,\"solidity\":0.2}},\"type\":\"barpolar\"}],\"carpet\":[{\"aaxis\":{\"endlinecolor\":\"#2a3f5f\",\"gridcolor\":\"white\",\"linecolor\":\"white\",\"minorgridcolor\":\"white\",\"startlinecolor\":\"#2a3f5f\"},\"baxis\":{\"endlinecolor\":\"#2a3f5f\",\"gridcolor\":\"white\",\"linecolor\":\"white\",\"minorgridcolor\":\"white\",\"startlinecolor\":\"#2a3f5f\"},\"type\":\"carpet\"}],\"choropleth\":[{\"colorbar\":{\"outlinewidth\":0,\"ticks\":\"\"},\"type\":\"choropleth\"}],\"contour\":[{\"colorbar\":{\"outlinewidth\":0,\"ticks\":\"\"},\"colorscale\":[[0.0,\"#0d0887\"],[0.1111111111111111,\"#46039f\"],[0.2222222222222222,\"#7201a8\"],[0.3333333333333333,\"#9c179e\"],[0.4444444444444444,\"#bd3786\"],[0.5555555555555556,\"#d8576b\"],[0.6666666666666666,\"#ed7953\"],[0.7777777777777778,\"#fb9f3a\"],[0.8888888888888888,\"#fdca26\"],[1.0,\"#f0f921\"]],\"type\":\"contour\"}],\"contourcarpet\":[{\"colorbar\":{\"outlinewidth\":0,\"ticks\":\"\"},\"type\":\"contourcarpet\"}],\"heatmap\":[{\"colorbar\":{\"outlinewidth\":0,\"ticks\":\"\"},\"colorscale\":[[0.0,\"#0d0887\"],[0.1111111111111111,\"#46039f\"],[0.2222222222222222,\"#7201a8\"],[0.3333333333333333,\"#9c179e\"],[0.4444444444444444,\"#bd3786\"],[0.5555555555555556,\"#d8576b\"],[0.6666666666666666,\"#ed7953\"],[0.7777777777777778,\"#fb9f3a\"],[0.8888888888888888,\"#fdca26\"],[1.0,\"#f0f921\"]],\"type\":\"heatmap\"}],\"heatmapgl\":[{\"colorbar\":{\"outlinewidth\":0,\"ticks\":\"\"},\"colorscale\":[[0.0,\"#0d0887\"],[0.1111111111111111,\"#46039f\"],[0.2222222222222222,\"#7201a8\"],[0.3333333333333333,\"#9c179e\"],[0.4444444444444444,\"#bd3786\"],[0.5555555555555556,\"#d8576b\"],[0.6666666666666666,\"#ed7953\"],[0.7777777777777778,\"#fb9f3a\"],[0.8888888888888888,\"#fdca26\"],[1.0,\"#f0f921\"]],\"type\":\"heatmapgl\"}],\"histogram\":[{\"marker\":{\"pattern\":{\"fillmode\":\"overlay\",\"size\":10,\"solidity\":0.2}},\"type\":\"histogram\"}],\"histogram2d\":[{\"colorbar\":{\"outlinewidth\":0,\"ticks\":\"\"},\"colorscale\":[[0.0,\"#0d0887\"],[0.1111111111111111,\"#46039f\"],[0.2222222222222222,\"#7201a8\"],[0.3333333333333333,\"#9c179e\"],[0.4444444444444444,\"#bd3786\"],[0.5555555555555556,\"#d8576b\"],[0.6666666666666666,\"#ed7953\"],[0.7777777777777778,\"#fb9f3a\"],[0.8888888888888888,\"#fdca26\"],[1.0,\"#f0f921\"]],\"type\":\"histogram2d\"}],\"histogram2dcontour\":[{\"colorbar\":{\"outlinewidth\":0,\"ticks\":\"\"},\"colorscale\":[[0.0,\"#0d0887\"],[0.1111111111111111,\"#46039f\"],[0.2222222222222222,\"#7201a8\"],[0.3333333333333333,\"#9c179e\"],[0.4444444444444444,\"#bd3786\"],[0.5555555555555556,\"#d8576b\"],[0.6666666666666666,\"#ed7953\"],[0.7777777777777778,\"#fb9f3a\"],[0.8888888888888888,\"#fdca26\"],[1.0,\"#f0f921\"]],\"type\":\"histogram2dcontour\"}],\"mesh3d\":[{\"colorbar\":{\"outlinewidth\":0,\"ticks\":\"\"},\"type\":\"mesh3d\"}],\"parcoords\":[{\"line\":{\"colorbar\":{\"outlinewidth\":0,\"ticks\":\"\"}},\"type\":\"parcoords\"}],\"pie\":[{\"automargin\":true,\"type\":\"pie\"}],\"scatter\":[{\"marker\":{\"colorbar\":{\"outlinewidth\":0,\"ticks\":\"\"}},\"type\":\"scatter\"}],\"scatter3d\":[{\"line\":{\"colorbar\":{\"outlinewidth\":0,\"ticks\":\"\"}},\"marker\":{\"colorbar\":{\"outlinewidth\":0,\"ticks\":\"\"}},\"type\":\"scatter3d\"}],\"scattercarpet\":[{\"marker\":{\"colorbar\":{\"outlinewidth\":0,\"ticks\":\"\"}},\"type\":\"scattercarpet\"}],\"scattergeo\":[{\"marker\":{\"colorbar\":{\"outlinewidth\":0,\"ticks\":\"\"}},\"type\":\"scattergeo\"}],\"scattergl\":[{\"marker\":{\"colorbar\":{\"outlinewidth\":0,\"ticks\":\"\"}},\"type\":\"scattergl\"}],\"scattermapbox\":[{\"marker\":{\"colorbar\":{\"outlinewidth\":0,\"ticks\":\"\"}},\"type\":\"scattermapbox\"}],\"scatterpolar\":[{\"marker\":{\"colorbar\":{\"outlinewidth\":0,\"ticks\":\"\"}},\"type\":\"scatterpolar\"}],\"scatterpolargl\":[{\"marker\":{\"colorbar\":{\"outlinewidth\":0,\"ticks\":\"\"}},\"type\":\"scatterpolargl\"}],\"scatterternary\":[{\"marker\":{\"colorbar\":{\"outlinewidth\":0,\"ticks\":\"\"}},\"type\":\"scatterternary\"}],\"surface\":[{\"colorbar\":{\"outlinewidth\":0,\"ticks\":\"\"},\"colorscale\":[[0.0,\"#0d0887\"],[0.1111111111111111,\"#46039f\"],[0.2222222222222222,\"#7201a8\"],[0.3333333333333333,\"#9c179e\"],[0.4444444444444444,\"#bd3786\"],[0.5555555555555556,\"#d8576b\"],[0.6666666666666666,\"#ed7953\"],[0.7777777777777778,\"#fb9f3a\"],[0.8888888888888888,\"#fdca26\"],[1.0,\"#f0f921\"]],\"type\":\"surface\"}],\"table\":[{\"cells\":{\"fill\":{\"color\":\"#EBF0F8\"},\"line\":{\"color\":\"white\"}},\"header\":{\"fill\":{\"color\":\"#C8D4E3\"},\"line\":{\"color\":\"white\"}},\"type\":\"table\"}]},\"layout\":{\"annotationdefaults\":{\"arrowcolor\":\"#2a3f5f\",\"arrowhead\":0,\"arrowwidth\":1},\"autotypenumbers\":\"strict\",\"coloraxis\":{\"colorbar\":{\"outlinewidth\":0,\"ticks\":\"\"}},\"colorscale\":{\"diverging\":[[0,\"#8e0152\"],[0.1,\"#c51b7d\"],[0.2,\"#de77ae\"],[0.3,\"#f1b6da\"],[0.4,\"#fde0ef\"],[0.5,\"#f7f7f7\"],[0.6,\"#e6f5d0\"],[0.7,\"#b8e186\"],[0.8,\"#7fbc41\"],[0.9,\"#4d9221\"],[1,\"#276419\"]],\"sequential\":[[0.0,\"#0d0887\"],[0.1111111111111111,\"#46039f\"],[0.2222222222222222,\"#7201a8\"],[0.3333333333333333,\"#9c179e\"],[0.4444444444444444,\"#bd3786\"],[0.5555555555555556,\"#d8576b\"],[0.6666666666666666,\"#ed7953\"],[0.7777777777777778,\"#fb9f3a\"],[0.8888888888888888,\"#fdca26\"],[1.0,\"#f0f921\"]],\"sequentialminus\":[[0.0,\"#0d0887\"],[0.1111111111111111,\"#46039f\"],[0.2222222222222222,\"#7201a8\"],[0.3333333333333333,\"#9c179e\"],[0.4444444444444444,\"#bd3786\"],[0.5555555555555556,\"#d8576b\"],[0.6666666666666666,\"#ed7953\"],[0.7777777777777778,\"#fb9f3a\"],[0.8888888888888888,\"#fdca26\"],[1.0,\"#f0f921\"]]},\"colorway\":[\"#636efa\",\"#EF553B\",\"#00cc96\",\"#ab63fa\",\"#FFA15A\",\"#19d3f3\",\"#FF6692\",\"#B6E880\",\"#FF97FF\",\"#FECB52\"],\"font\":{\"color\":\"#2a3f5f\"},\"geo\":{\"bgcolor\":\"white\",\"lakecolor\":\"white\",\"landcolor\":\"#E5ECF6\",\"showlakes\":true,\"showland\":true,\"subunitcolor\":\"white\"},\"hoverlabel\":{\"align\":\"left\"},\"hovermode\":\"closest\",\"mapbox\":{\"style\":\"light\"},\"paper_bgcolor\":\"white\",\"plot_bgcolor\":\"#E5ECF6\",\"polar\":{\"angularaxis\":{\"gridcolor\":\"white\",\"linecolor\":\"white\",\"ticks\":\"\"},\"bgcolor\":\"#E5ECF6\",\"radialaxis\":{\"gridcolor\":\"white\",\"linecolor\":\"white\",\"ticks\":\"\"}},\"scene\":{\"xaxis\":{\"backgroundcolor\":\"#E5ECF6\",\"gridcolor\":\"white\",\"gridwidth\":2,\"linecolor\":\"white\",\"showbackground\":true,\"ticks\":\"\",\"zerolinecolor\":\"white\"},\"yaxis\":{\"backgroundcolor\":\"#E5ECF6\",\"gridcolor\":\"white\",\"gridwidth\":2,\"linecolor\":\"white\",\"showbackground\":true,\"ticks\":\"\",\"zerolinecolor\":\"white\"},\"zaxis\":{\"backgroundcolor\":\"#E5ECF6\",\"gridcolor\":\"white\",\"gridwidth\":2,\"linecolor\":\"white\",\"showbackground\":true,\"ticks\":\"\",\"zerolinecolor\":\"white\"}},\"shapedefaults\":{\"line\":{\"color\":\"#2a3f5f\"}},\"ternary\":{\"aaxis\":{\"gridcolor\":\"white\",\"linecolor\":\"white\",\"ticks\":\"\"},\"baxis\":{\"gridcolor\":\"white\",\"linecolor\":\"white\",\"ticks\":\"\"},\"bgcolor\":\"#E5ECF6\",\"caxis\":{\"gridcolor\":\"white\",\"linecolor\":\"white\",\"ticks\":\"\"}},\"title\":{\"x\":0.05},\"xaxis\":{\"automargin\":true,\"gridcolor\":\"white\",\"linecolor\":\"white\",\"ticks\":\"\",\"title\":{\"standoff\":15},\"zerolinecolor\":\"white\",\"zerolinewidth\":2},\"yaxis\":{\"automargin\":true,\"gridcolor\":\"white\",\"linecolor\":\"white\",\"ticks\":\"\",\"title\":{\"standoff\":15},\"zerolinecolor\":\"white\",\"zerolinewidth\":2}}}},                        {\"responsive\": true}                    ).then(function(){\n",
       "                            \n",
       "var gd = document.getElementById('eeba46d1-8dfb-43dc-b89a-15ddc811de9a');\n",
       "var x = new MutationObserver(function (mutations, observer) {{\n",
       "        var display = window.getComputedStyle(gd).display;\n",
       "        if (!display || display === 'none') {{\n",
       "            console.log([gd, 'removed!']);\n",
       "            Plotly.purge(gd);\n",
       "            observer.disconnect();\n",
       "        }}\n",
       "}});\n",
       "\n",
       "// Listen for the removal of the full notebook cells\n",
       "var notebookContainer = gd.closest('#notebook-container');\n",
       "if (notebookContainer) {{\n",
       "    x.observe(notebookContainer, {childList: true});\n",
       "}}\n",
       "\n",
       "// Listen for the clearing of the current output cell\n",
       "var outputEl = gd.closest('.output');\n",
       "if (outputEl) {{\n",
       "    x.observe(outputEl, {childList: true});\n",
       "}}\n",
       "\n",
       "                        })                };                });            </script>        </div>"
      ]
     },
     "metadata": {},
     "output_type": "display_data"
    },
    {
     "data": {
      "text/plain": [
       "<Figure size 576x288 with 0 Axes>"
      ]
     },
     "metadata": {},
     "output_type": "display_data"
    }
   ],
   "source": [
    "label = data['Gender'].value_counts().index\n",
    "value = data['Gender'].value_counts().values\n",
    "\n",
    "import plotly.graph_objects as go\n",
    "plt.figure(figsize=(8,4))\n",
    "go.Figure(go.Pie(\n",
    "    name= \"\",\n",
    "    values = value,\n",
    "    labels = label,\n",
    "    hovertemplate = \"%{value} <br>%{label}\"\n",
    "))"
   ]
  },
  {
   "cell_type": "code",
   "execution_count": 10,
   "id": "3aedda31",
   "metadata": {
    "execution": {
     "iopub.execute_input": "2021-10-07T09:12:28.973121Z",
     "iopub.status.busy": "2021-10-07T09:12:28.972403Z",
     "iopub.status.idle": "2021-10-07T09:12:29.202929Z",
     "shell.execute_reply": "2021-10-07T09:12:29.203454Z",
     "shell.execute_reply.started": "2021-10-04T08:29:02.004924Z"
    },
    "papermill": {
     "duration": 0.286237,
     "end_time": "2021-10-07T09:12:29.203628",
     "exception": false,
     "start_time": "2021-10-07T09:12:28.917391",
     "status": "completed"
    },
    "tags": []
   },
   "outputs": [
    {
     "name": "stderr",
     "output_type": "stream",
     "text": [
      "/opt/conda/lib/python3.7/site-packages/seaborn/_decorators.py:43: FutureWarning:\n",
      "\n",
      "Pass the following variable as a keyword arg: x. From version 0.12, the only valid positional argument will be `data`, and passing other arguments without an explicit keyword will result in an error or misinterpretation.\n",
      "\n"
     ]
    },
    {
     "data": {
      "text/plain": [
       "<AxesSubplot:xlabel='Gender', ylabel='count'>"
      ]
     },
     "execution_count": 10,
     "metadata": {},
     "output_type": "execute_result"
    },
    {
     "data": {
      "image/png": "[encoded data removed]",
      "text/plain": [
       "<Figure size 792x504 with 1 Axes>"
      ]
     },
     "metadata": {
      "needs_background": "light"
     },
     "output_type": "display_data"
    }
   ],
   "source": [
    "plt.figure(figsize=(11,7))\n",
    "sns.countplot(data['Gender'], hue=data['Attrition_Flag'])"
   ]
  },
  {
   "cell_type": "code",
   "execution_count": 11,
   "id": "639f3a18",
   "metadata": {
    "execution": {
     "iopub.execute_input": "2021-10-07T09:12:29.306015Z",
     "iopub.status.busy": "2021-10-07T09:12:29.304912Z",
     "iopub.status.idle": "2021-10-07T09:12:29.778005Z",
     "shell.execute_reply": "2021-10-07T09:12:29.777434Z",
     "shell.execute_reply.started": "2021-10-04T08:29:02.302506Z"
    },
    "papermill": {
     "duration": 0.529315,
     "end_time": "2021-10-07T09:12:29.778172",
     "exception": false,
     "start_time": "2021-10-07T09:12:29.248857",
     "status": "completed"
    },
    "tags": []
   },
   "outputs": [
    {
     "data": {
      "text/plain": [
       "<AxesSubplot:xlabel='Total_Revolving_Bal', ylabel='Count'>"
      ]
     },
     "execution_count": 11,
     "metadata": {},
     "output_type": "execute_result"
    },
    {
     "data": {
      "image/png": "[encoded data removed]",
      "text/plain": [
       "<Figure size 432x288 with 1 Axes>"
      ]
     },
     "metadata": {
      "needs_background": "light"
     },
     "output_type": "display_data"
    }
   ],
   "source": [
    "sns.histplot(data['Total_Revolving_Bal'], kde=True)"
   ]
  },
  {
   "cell_type": "code",
   "execution_count": 12,
   "id": "07a24b54",
   "metadata": {
    "execution": {
     "iopub.execute_input": "2021-10-07T09:12:29.927427Z",
     "iopub.status.busy": "2021-10-07T09:12:29.906765Z",
     "iopub.status.idle": "2021-10-07T09:12:30.269615Z",
     "shell.execute_reply": "2021-10-07T09:12:30.268963Z",
     "shell.execute_reply.started": "2021-10-04T08:29:02.848863Z"
    },
    "papermill": {
     "duration": 0.446223,
     "end_time": "2021-10-07T09:12:30.269753",
     "exception": false,
     "start_time": "2021-10-07T09:12:29.823530",
     "status": "completed"
    },
    "tags": []
   },
   "outputs": [
    {
     "name": "stderr",
     "output_type": "stream",
     "text": [
      "/opt/conda/lib/python3.7/site-packages/seaborn/_decorators.py:43: FutureWarning:\n",
      "\n",
      "Pass the following variable as a keyword arg: x. From version 0.12, the only valid positional argument will be `data`, and passing other arguments without an explicit keyword will result in an error or misinterpretation.\n",
      "\n",
      "/opt/conda/lib/python3.7/site-packages/seaborn/_decorators.py:43: FutureWarning:\n",
      "\n",
      "Pass the following variable as a keyword arg: x. From version 0.12, the only valid positional argument will be `data`, and passing other arguments without an explicit keyword will result in an error or misinterpretation.\n",
      "\n"
     ]
    },
    {
     "data": {
      "text/plain": [
       "<AxesSubplot:xlabel='Card_Category', ylabel='count'>"
      ]
     },
     "execution_count": 12,
     "metadata": {},
     "output_type": "execute_result"
    },
    {
     "data": {
      "image/png": "[encoded data removed]",
      "text/plain": [
       "<Figure size 1224x432 with 2 Axes>"
      ]
     },
     "metadata": {
      "needs_background": "light"
     },
     "output_type": "display_data"
    }
   ],
   "source": [
    "fig, axes = plt.subplots(1,2)\n",
    "fig.set_figheight(6)\n",
    "fig.set_figwidth(17)\n",
    "sns.countplot(data['Card_Category'],ax=axes[0])\n",
    "sns.countplot(data['Card_Category'], hue = data['Attrition_Flag'], ax=axes[1])"
   ]
  },
  {
   "cell_type": "code",
   "execution_count": 13,
   "id": "9e0bb8a5",
   "metadata": {
    "execution": {
     "iopub.execute_input": "2021-10-07T09:12:30.372641Z",
     "iopub.status.busy": "2021-10-07T09:12:30.371994Z",
     "iopub.status.idle": "2021-10-07T09:12:30.389150Z",
     "shell.execute_reply": "2021-10-07T09:12:30.388577Z",
     "shell.execute_reply.started": "2021-10-04T08:29:03.265601Z"
    },
    "papermill": {
     "duration": 0.070751,
     "end_time": "2021-10-07T09:12:30.389308",
     "exception": false,
     "start_time": "2021-10-07T09:12:30.318557",
     "status": "completed"
    },
    "tags": []
   },
   "outputs": [],
   "source": [
    "total = data.groupby('Card_Category')['Attrition_Flag'].count()\n",
    "existing = data[data['Attrition_Flag'] == 'Existing Customer'].groupby('Card_Category')['Attrition_Flag'].count()\n",
    "attrited = data[data['Attrition_Flag'] == 'Attrited Customer'].groupby('Card_Category')['Attrition_Flag'].count()"
   ]
  },
  {
   "cell_type": "code",
   "execution_count": 14,
   "id": "36e6093c",
   "metadata": {
    "execution": {
     "iopub.execute_input": "2021-10-07T09:12:30.490768Z",
     "iopub.status.busy": "2021-10-07T09:12:30.489775Z",
     "iopub.status.idle": "2021-10-07T09:12:30.494210Z",
     "shell.execute_reply": "2021-10-07T09:12:30.493698Z",
     "shell.execute_reply.started": "2021-10-04T08:29:03.2889Z"
    },
    "papermill": {
     "duration": 0.058114,
     "end_time": "2021-10-07T09:12:30.494350",
     "exception": false,
     "start_time": "2021-10-07T09:12:30.436236",
     "status": "completed"
    },
    "tags": []
   },
   "outputs": [
    {
     "name": "stdout",
     "output_type": "stream",
     "text": [
      "Percentage of Customers attrited that have blue cards  0.1609792284866469\n",
      "Percentage of Customers attrited that have gold cards  0.1810344827586207\n",
      "Percentage of Customers attrited that have platinum cards  0.25\n",
      "Percentage of Customers attrited that have silver cards  0.14774774774774774\n"
     ]
    }
   ],
   "source": [
    "print('Percentage of Customers attrited that have blue cards ', attrited[0]/total[0])\n",
    "print('Percentage of Customers attrited that have gold cards ', attrited[1]/total[1])\n",
    "print('Percentage of Customers attrited that have platinum cards ', attrited[2]/total[2])\n",
    "print('Percentage of Customers attrited that have silver cards ', attrited[3]/total[3])\n",
    "\n",
    "## We see some minor variance in the percent but the percent of attrited customers is below 20%, so even a small change in these values may impact whether the customer stays or not"
   ]
  },
  {
   "cell_type": "code",
   "execution_count": 15,
   "id": "90a0526c",
   "metadata": {
    "execution": {
     "iopub.execute_input": "2021-10-07T09:12:30.590545Z",
     "iopub.status.busy": "2021-10-07T09:12:30.589817Z",
     "iopub.status.idle": "2021-10-07T09:12:30.804985Z",
     "shell.execute_reply": "2021-10-07T09:12:30.804310Z",
     "shell.execute_reply.started": "2021-10-04T08:29:03.300062Z"
    },
    "papermill": {
     "duration": 0.264554,
     "end_time": "2021-10-07T09:12:30.805139",
     "exception": false,
     "start_time": "2021-10-07T09:12:30.540585",
     "status": "completed"
    },
    "tags": []
   },
   "outputs": [
    {
     "name": "stderr",
     "output_type": "stream",
     "text": [
      "/opt/conda/lib/python3.7/site-packages/seaborn/_decorators.py:43: FutureWarning:\n",
      "\n",
      "Pass the following variable as a keyword arg: x. From version 0.12, the only valid positional argument will be `data`, and passing other arguments without an explicit keyword will result in an error or misinterpretation.\n",
      "\n"
     ]
    },
    {
     "data": {
      "text/plain": [
       "<AxesSubplot:xlabel='Education_Level', ylabel='count'>"
      ]
     },
     "execution_count": 15,
     "metadata": {},
     "output_type": "execute_result"
    },
    {
     "data": {
      "image/png": "[encoded data removed]",
      "text/plain": [
       "<Figure size 792x504 with 1 Axes>"
      ]
     },
     "metadata": {
      "needs_background": "light"
     },
     "output_type": "display_data"
    }
   ],
   "source": [
    "plt.figure(figsize=(11,7))\n",
    "sns.countplot(data['Education_Level'])"
   ]
  },
  {
   "cell_type": "code",
   "execution_count": 16,
   "id": "3bc7bbdd",
   "metadata": {
    "execution": {
     "iopub.execute_input": "2021-10-07T09:12:30.917415Z",
     "iopub.status.busy": "2021-10-07T09:12:30.916425Z",
     "iopub.status.idle": "2021-10-07T09:12:31.191559Z",
     "shell.execute_reply": "2021-10-07T09:12:31.191014Z",
     "shell.execute_reply.started": "2021-10-04T08:29:03.527217Z"
    },
    "papermill": {
     "duration": 0.337742,
     "end_time": "2021-10-07T09:12:31.191708",
     "exception": false,
     "start_time": "2021-10-07T09:12:30.853966",
     "status": "completed"
    },
    "tags": []
   },
   "outputs": [
    {
     "name": "stderr",
     "output_type": "stream",
     "text": [
      "/opt/conda/lib/python3.7/site-packages/seaborn/_decorators.py:43: FutureWarning:\n",
      "\n",
      "Pass the following variable as a keyword arg: x. From version 0.12, the only valid positional argument will be `data`, and passing other arguments without an explicit keyword will result in an error or misinterpretation.\n",
      "\n"
     ]
    },
    {
     "data": {
      "text/plain": [
       "<AxesSubplot:xlabel='Education_Level', ylabel='count'>"
      ]
     },
     "execution_count": 16,
     "metadata": {},
     "output_type": "execute_result"
    },
    {
     "data": {
      "image/png": "[encoded data removed]",
      "text/plain": [
       "<Figure size 792x504 with 1 Axes>"
      ]
     },
     "metadata": {
      "needs_background": "light"
     },
     "output_type": "display_data"
    }
   ],
   "source": [
    "plt.figure(figsize=(11,7))\n",
    "sns.countplot(data['Education_Level'], hue=data['Attrition_Flag'])"
   ]
  },
  {
   "cell_type": "code",
   "execution_count": 17,
   "id": "d2dd4afe",
   "metadata": {
    "execution": {
     "iopub.execute_input": "2021-10-07T09:12:31.318035Z",
     "iopub.status.busy": "2021-10-07T09:12:31.317012Z",
     "iopub.status.idle": "2021-10-07T09:12:31.670998Z",
     "shell.execute_reply": "2021-10-07T09:12:31.671482Z",
     "shell.execute_reply.started": "2021-10-04T08:29:03.814359Z"
    },
    "papermill": {
     "duration": 0.4309,
     "end_time": "2021-10-07T09:12:31.671662",
     "exception": false,
     "start_time": "2021-10-07T09:12:31.240762",
     "status": "completed"
    },
    "tags": []
   },
   "outputs": [
    {
     "data": {
      "text/plain": [
       "<AxesSubplot:xlabel='Total_Trans_Amt', ylabel='Count'>"
      ]
     },
     "execution_count": 17,
     "metadata": {},
     "output_type": "execute_result"
    },
    {
     "data": {
      "image/png": "[encoded data removed]",
      "text/plain": [
       "<Figure size 432x288 with 1 Axes>"
      ]
     },
     "metadata": {
      "needs_background": "light"
     },
     "output_type": "display_data"
    }
   ],
   "source": [
    "sns.histplot(data['Total_Trans_Amt'])"
   ]
  },
  {
   "cell_type": "code",
   "execution_count": 18,
   "id": "429c52c6",
   "metadata": {
    "execution": {
     "iopub.execute_input": "2021-10-07T09:12:31.775341Z",
     "iopub.status.busy": "2021-10-07T09:12:31.774637Z",
     "iopub.status.idle": "2021-10-07T09:12:31.786661Z",
     "shell.execute_reply": "2021-10-07T09:12:31.787257Z",
     "shell.execute_reply.started": "2021-10-04T08:29:04.211546Z"
    },
    "papermill": {
     "duration": 0.066292,
     "end_time": "2021-10-07T09:12:31.787448",
     "exception": false,
     "start_time": "2021-10-07T09:12:31.721156",
     "status": "completed"
    },
    "tags": []
   },
   "outputs": [],
   "source": [
    "transaction_amt = []\n",
    "for i in data['Total_Trans_Amt']:\n",
    "  if i < 2500:\n",
    "    transaction_amt.append('Less than 2500')\n",
    "  elif i < 5000:\n",
    "    transaction_amt.append('Less than 500')\n",
    "  elif i < 12000:\n",
    "    transaction_amt.append('Less than 12000')\n",
    "  else:\n",
    "    transaction_amt.append('12K +')\n",
    "\n",
    "transaction_amt = np.array(transaction_amt)"
   ]
  },
  {
   "cell_type": "code",
   "execution_count": 19,
   "id": "3eef5ba3",
   "metadata": {
    "execution": {
     "iopub.execute_input": "2021-10-07T09:12:31.892321Z",
     "iopub.status.busy": "2021-10-07T09:12:31.891583Z",
     "iopub.status.idle": "2021-10-07T09:12:31.898836Z",
     "shell.execute_reply": "2021-10-07T09:12:31.898292Z",
     "shell.execute_reply.started": "2021-10-04T08:29:04.22529Z"
    },
    "papermill": {
     "duration": 0.060602,
     "end_time": "2021-10-07T09:12:31.898996",
     "exception": false,
     "start_time": "2021-10-07T09:12:31.838394",
     "status": "completed"
    },
    "tags": []
   },
   "outputs": [],
   "source": [
    "data['Transaction_Category'] = transaction_amt"
   ]
  },
  {
   "cell_type": "code",
   "execution_count": 20,
   "id": "ba14de39",
   "metadata": {
    "execution": {
     "iopub.execute_input": "2021-10-07T09:12:32.012847Z",
     "iopub.status.busy": "2021-10-07T09:12:32.012181Z",
     "iopub.status.idle": "2021-10-07T09:12:32.237275Z",
     "shell.execute_reply": "2021-10-07T09:12:32.236604Z",
     "shell.execute_reply.started": "2021-10-04T08:29:04.24115Z"
    },
    "papermill": {
     "duration": 0.288953,
     "end_time": "2021-10-07T09:12:32.237421",
     "exception": false,
     "start_time": "2021-10-07T09:12:31.948468",
     "status": "completed"
    },
    "tags": []
   },
   "outputs": [
    {
     "name": "stderr",
     "output_type": "stream",
     "text": [
      "/opt/conda/lib/python3.7/site-packages/seaborn/_decorators.py:43: FutureWarning:\n",
      "\n",
      "Pass the following variable as a keyword arg: x. From version 0.12, the only valid positional argument will be `data`, and passing other arguments without an explicit keyword will result in an error or misinterpretation.\n",
      "\n"
     ]
    },
    {
     "data": {
      "text/plain": [
       "<AxesSubplot:xlabel='Transaction_Category', ylabel='count'>"
      ]
     },
     "execution_count": 20,
     "metadata": {},
     "output_type": "execute_result"
    },
    {
     "data": {
      "image/png": "[encoded data removed]",
      "text/plain": [
       "<Figure size 432x288 with 1 Axes>"
      ]
     },
     "metadata": {
      "needs_background": "light"
     },
     "output_type": "display_data"
    }
   ],
   "source": [
    "## Customers who transact more than 12K don't tend to leave the bank (credit card). The customers who have low transaction amount have high churn rate\n",
    "sns.countplot(data['Transaction_Category'], hue=data['Attrition_Flag'])"
   ]
  },
  {
   "cell_type": "code",
   "execution_count": 21,
   "id": "3e76e0d5",
   "metadata": {
    "execution": {
     "iopub.execute_input": "2021-10-07T09:12:32.342315Z",
     "iopub.status.busy": "2021-10-07T09:12:32.341644Z",
     "iopub.status.idle": "2021-10-07T09:12:32.635805Z",
     "shell.execute_reply": "2021-10-07T09:12:32.635282Z",
     "shell.execute_reply.started": "2021-10-04T08:29:04.49455Z"
    },
    "papermill": {
     "duration": 0.347747,
     "end_time": "2021-10-07T09:12:32.635986",
     "exception": false,
     "start_time": "2021-10-07T09:12:32.288239",
     "status": "completed"
    },
    "tags": []
   },
   "outputs": [
    {
     "data": {
      "text/plain": [
       "<AxesSubplot:xlabel='Total_Trans_Ct', ylabel='Count'>"
      ]
     },
     "execution_count": 21,
     "metadata": {},
     "output_type": "execute_result"
    },
    {
     "data": {
      "image/png": "[encoded data removed]",
      "text/plain": [
       "<Figure size 432x288 with 1 Axes>"
      ]
     },
     "metadata": {
      "needs_background": "light"
     },
     "output_type": "display_data"
    }
   ],
   "source": [
    "sns.histplot(data['Total_Trans_Ct'])"
   ]
  },
  {
   "cell_type": "code",
   "execution_count": 22,
   "id": "a3ac2728",
   "metadata": {
    "execution": {
     "iopub.execute_input": "2021-10-07T09:12:32.745146Z",
     "iopub.status.busy": "2021-10-07T09:12:32.744475Z",
     "iopub.status.idle": "2021-10-07T09:12:33.002453Z",
     "shell.execute_reply": "2021-10-07T09:12:33.001856Z",
     "shell.execute_reply.started": "2021-10-04T08:29:04.797984Z"
    },
    "papermill": {
     "duration": 0.31506,
     "end_time": "2021-10-07T09:12:33.002590",
     "exception": false,
     "start_time": "2021-10-07T09:12:32.687530",
     "status": "completed"
    },
    "tags": []
   },
   "outputs": [
    {
     "name": "stderr",
     "output_type": "stream",
     "text": [
      "/opt/conda/lib/python3.7/site-packages/seaborn/_decorators.py:43: FutureWarning:\n",
      "\n",
      "Pass the following variable as a keyword arg: x. From version 0.12, the only valid positional argument will be `data`, and passing other arguments without an explicit keyword will result in an error or misinterpretation.\n",
      "\n"
     ]
    },
    {
     "data": {
      "text/plain": [
       "<AxesSubplot:xlabel='Contacts_Count_12_mon', ylabel='count'>"
      ]
     },
     "execution_count": 22,
     "metadata": {},
     "output_type": "execute_result"
    },
    {
     "data": {
      "image/png": "[encoded data removed]",
      "text/plain": [
       "<Figure size 432x288 with 1 Axes>"
      ]
     },
     "metadata": {
      "needs_background": "light"
     },
     "output_type": "display_data"
    }
   ],
   "source": [
    "## We can see an interesting pattern in this plot. As the number of times the customer contacts the bank increases, the higher the chance that the customer will leave the bank\n",
    "sns.countplot(data['Contacts_Count_12_mon'],hue=data['Attrition_Flag'])"
   ]
  },
  {
   "cell_type": "code",
   "execution_count": 23,
   "id": "8c3161e5",
   "metadata": {
    "execution": {
     "iopub.execute_input": "2021-10-07T09:12:33.116177Z",
     "iopub.status.busy": "2021-10-07T09:12:33.115187Z",
     "iopub.status.idle": "2021-10-07T09:12:33.382540Z",
     "shell.execute_reply": "2021-10-07T09:12:33.381933Z",
     "shell.execute_reply.started": "2021-10-04T08:29:05.068519Z"
    },
    "papermill": {
     "duration": 0.325273,
     "end_time": "2021-10-07T09:12:33.382695",
     "exception": false,
     "start_time": "2021-10-07T09:12:33.057422",
     "status": "completed"
    },
    "tags": []
   },
   "outputs": [
    {
     "name": "stderr",
     "output_type": "stream",
     "text": [
      "/opt/conda/lib/python3.7/site-packages/seaborn/_decorators.py:43: FutureWarning:\n",
      "\n",
      "Pass the following variable as a keyword arg: x. From version 0.12, the only valid positional argument will be `data`, and passing other arguments without an explicit keyword will result in an error or misinterpretation.\n",
      "\n"
     ]
    },
    {
     "data": {
      "text/plain": [
       "<AxesSubplot:xlabel='Months_Inactive_12_mon', ylabel='count'>"
      ]
     },
     "execution_count": 23,
     "metadata": {},
     "output_type": "execute_result"
    },
    {
     "data": {
      "image/png": "[encoded data removed]",
      "text/plain": [
       "<Figure size 432x288 with 1 Axes>"
      ]
     },
     "metadata": {
      "needs_background": "light"
     },
     "output_type": "display_data"
    }
   ],
   "source": [
    "## We can see that if the customer is inactive for more than a month his chances of leaving are higher\n",
    "sns.countplot(data['Months_Inactive_12_mon'], hue=data['Attrition_Flag'])"
   ]
  },
  {
   "cell_type": "code",
   "execution_count": 24,
   "id": "abbac883",
   "metadata": {
    "execution": {
     "iopub.execute_input": "2021-10-07T09:12:33.503143Z",
     "iopub.status.busy": "2021-10-07T09:12:33.502069Z",
     "iopub.status.idle": "2021-10-07T09:12:33.767597Z",
     "shell.execute_reply": "2021-10-07T09:12:33.767020Z",
     "shell.execute_reply.started": "2021-10-04T08:29:05.335968Z"
    },
    "papermill": {
     "duration": 0.327837,
     "end_time": "2021-10-07T09:12:33.767741",
     "exception": false,
     "start_time": "2021-10-07T09:12:33.439904",
     "status": "completed"
    },
    "tags": []
   },
   "outputs": [
    {
     "name": "stderr",
     "output_type": "stream",
     "text": [
      "/opt/conda/lib/python3.7/site-packages/seaborn/_decorators.py:43: FutureWarning:\n",
      "\n",
      "Pass the following variable as a keyword arg: x. From version 0.12, the only valid positional argument will be `data`, and passing other arguments without an explicit keyword will result in an error or misinterpretation.\n",
      "\n"
     ]
    },
    {
     "data": {
      "text/plain": [
       "<AxesSubplot:xlabel='Total_Relationship_Count', ylabel='count'>"
      ]
     },
     "execution_count": 24,
     "metadata": {},
     "output_type": "execute_result"
    },
    {
     "data": {
      "image/png": "[encoded data removed]",
      "text/plain": [
       "<Figure size 432x288 with 1 Axes>"
      ]
     },
     "metadata": {
      "needs_background": "light"
     },
     "output_type": "display_data"
    }
   ],
   "source": [
    "## As the total number of products held by the customer is high chances of them leaving the services becomes low\n",
    "sns.countplot(data['Total_Relationship_Count'], hue=data['Attrition_Flag'])"
   ]
  },
  {
   "cell_type": "code",
   "execution_count": 25,
   "id": "9b46741e",
   "metadata": {
    "execution": {
     "iopub.execute_input": "2021-10-07T09:12:33.887577Z",
     "iopub.status.busy": "2021-10-07T09:12:33.886862Z",
     "iopub.status.idle": "2021-10-07T09:12:33.893504Z",
     "shell.execute_reply": "2021-10-07T09:12:33.894066Z",
     "shell.execute_reply.started": "2021-10-04T08:29:05.601307Z"
    },
    "papermill": {
     "duration": 0.068807,
     "end_time": "2021-10-07T09:12:33.894268",
     "exception": false,
     "start_time": "2021-10-07T09:12:33.825461",
     "status": "completed"
    },
    "tags": []
   },
   "outputs": [
    {
     "data": {
      "text/plain": [
       "0         Less than 2500\n",
       "1         Less than 2500\n",
       "2         Less than 2500\n",
       "3         Less than 2500\n",
       "4         Less than 2500\n",
       "              ...       \n",
       "10122              12K +\n",
       "10123    Less than 12000\n",
       "10124    Less than 12000\n",
       "10125    Less than 12000\n",
       "10126    Less than 12000\n",
       "Name: Transaction_Category, Length: 10127, dtype: object"
      ]
     },
     "execution_count": 25,
     "metadata": {},
     "output_type": "execute_result"
    }
   ],
   "source": [
    "data.pop('Transaction_Category')"
   ]
  },
  {
   "cell_type": "code",
   "execution_count": 26,
   "id": "38988b98",
   "metadata": {
    "execution": {
     "iopub.execute_input": "2021-10-07T09:12:34.015126Z",
     "iopub.status.busy": "2021-10-07T09:12:34.014451Z",
     "iopub.status.idle": "2021-10-07T09:12:34.021840Z",
     "shell.execute_reply": "2021-10-07T09:12:34.021301Z",
     "shell.execute_reply.started": "2021-10-04T08:29:05.61179Z"
    },
    "papermill": {
     "duration": 0.069229,
     "end_time": "2021-10-07T09:12:34.021997",
     "exception": false,
     "start_time": "2021-10-07T09:12:33.952768",
     "status": "completed"
    },
    "tags": []
   },
   "outputs": [
    {
     "data": {
      "text/plain": [
       "array(['$60K - $80K', 'Less than $40K', '$80K - $120K', '$40K - $60K',\n",
       "       '$120K +', 'Unknown'], dtype=object)"
      ]
     },
     "execution_count": 26,
     "metadata": {},
     "output_type": "execute_result"
    }
   ],
   "source": [
    "data['Income_Category'].unique()"
   ]
  },
  {
   "cell_type": "code",
   "execution_count": 27,
   "id": "54a9fae5",
   "metadata": {
    "execution": {
     "iopub.execute_input": "2021-10-07T09:12:34.140369Z",
     "iopub.status.busy": "2021-10-07T09:12:34.139322Z",
     "iopub.status.idle": "2021-10-07T09:12:34.802006Z",
     "shell.execute_reply": "2021-10-07T09:12:34.802470Z",
     "shell.execute_reply.started": "2021-10-04T08:29:05.626216Z"
    },
    "papermill": {
     "duration": 0.723477,
     "end_time": "2021-10-07T09:12:34.802645",
     "exception": false,
     "start_time": "2021-10-07T09:12:34.079168",
     "status": "completed"
    },
    "tags": []
   },
   "outputs": [
    {
     "name": "stderr",
     "output_type": "stream",
     "text": [
      "/opt/conda/lib/python3.7/site-packages/seaborn/_decorators.py:43: FutureWarning:\n",
      "\n",
      "Pass the following variables as keyword args: x, y. From version 0.12, the only valid positional argument will be `data`, and passing other arguments without an explicit keyword will result in an error or misinterpretation.\n",
      "\n"
     ]
    },
    {
     "data": {
      "text/plain": [
       "<AxesSubplot:xlabel='Income_Category', ylabel='Credit_Limit'>"
      ]
     },
     "execution_count": 27,
     "metadata": {},
     "output_type": "execute_result"
    },
    {
     "data": {
      "image/png": "[encoded data removed]",
      "text/plain": [
       "<Figure size 864x504 with 1 Axes>"
      ]
     },
     "metadata": {
      "needs_background": "light"
     },
     "output_type": "display_data"
    }
   ],
   "source": [
    "plt.figure(figsize=(12,7))\n",
    "sns.barplot(data['Income_Category'], data['Credit_Limit'])"
   ]
  },
  {
   "cell_type": "code",
   "execution_count": 28,
   "id": "8c6d13f6",
   "metadata": {
    "execution": {
     "iopub.execute_input": "2021-10-07T09:12:34.924130Z",
     "iopub.status.busy": "2021-10-07T09:12:34.923128Z",
     "iopub.status.idle": "2021-10-07T09:12:35.835559Z",
     "shell.execute_reply": "2021-10-07T09:12:35.834748Z",
     "shell.execute_reply.started": "2021-10-04T08:29:06.29511Z"
    },
    "papermill": {
     "duration": 0.974705,
     "end_time": "2021-10-07T09:12:35.835727",
     "exception": false,
     "start_time": "2021-10-07T09:12:34.861022",
     "status": "completed"
    },
    "tags": []
   },
   "outputs": [
    {
     "name": "stderr",
     "output_type": "stream",
     "text": [
      "/opt/conda/lib/python3.7/site-packages/seaborn/_decorators.py:43: FutureWarning:\n",
      "\n",
      "Pass the following variable as a keyword arg: x. From version 0.12, the only valid positional argument will be `data`, and passing other arguments without an explicit keyword will result in an error or misinterpretation.\n",
      "\n",
      "/opt/conda/lib/python3.7/site-packages/seaborn/_decorators.py:43: FutureWarning:\n",
      "\n",
      "Pass the following variable as a keyword arg: x. From version 0.12, the only valid positional argument will be `data`, and passing other arguments without an explicit keyword will result in an error or misinterpretation.\n",
      "\n",
      "/opt/conda/lib/python3.7/site-packages/seaborn/_decorators.py:43: FutureWarning:\n",
      "\n",
      "Pass the following variable as a keyword arg: x. From version 0.12, the only valid positional argument will be `data`, and passing other arguments without an explicit keyword will result in an error or misinterpretation.\n",
      "\n",
      "/opt/conda/lib/python3.7/site-packages/seaborn/_decorators.py:43: FutureWarning:\n",
      "\n",
      "Pass the following variable as a keyword arg: x. From version 0.12, the only valid positional argument will be `data`, and passing other arguments without an explicit keyword will result in an error or misinterpretation.\n",
      "\n",
      "/opt/conda/lib/python3.7/site-packages/seaborn/_decorators.py:43: FutureWarning:\n",
      "\n",
      "Pass the following variable as a keyword arg: x. From version 0.12, the only valid positional argument will be `data`, and passing other arguments without an explicit keyword will result in an error or misinterpretation.\n",
      "\n"
     ]
    },
    {
     "data": {
      "text/plain": [
       "Text(0.5, 1.0, '$120K +')"
      ]
     },
     "execution_count": 28,
     "metadata": {},
     "output_type": "execute_result"
    },
    {
     "data": {
      "image/png": "[encoded data removed]",
      "text/plain": [
       "<Figure size 1296x720 with 6 Axes>"
      ]
     },
     "metadata": {
      "needs_background": "light"
     },
     "output_type": "display_data"
    }
   ],
   "source": [
    "## We can see from the above plot that as the income increases customer tend to have higher credit limits. So from this insight we can populate the 'Income_Category' column where there are missing values\n",
    "# Lets see how the Credit Limit is distributed among different Income categories\n",
    "fig, axes = plt.subplots(2,3,figsize=(18,10))\n",
    "sns.boxplot(data[data['Income_Category'] == 'Less than $40K']['Credit_Limit'], ax=axes[0,0])\n",
    "axes[0,0].set_title('Income < $40K')\n",
    "sns.boxplot(data[data['Income_Category'] == '$40K - $60K']['Credit_Limit'], ax=axes[0,1])\n",
    "axes[0,1].set_title('$40K - $60K')\n",
    "sns.boxplot(data[data['Income_Category'] == '$60K - $80K']['Credit_Limit'], ax=axes[0,2])\n",
    "axes[0,2].set_title('$60K - $80K')\n",
    "sns.boxplot(data[data['Income_Category'] == '$80K - $120K']['Credit_Limit'], ax=axes[1,0])\n",
    "axes[1,0].set_title('$60K - $80K')\n",
    "sns.boxplot(data[data['Income_Category'] == '$120K +']['Credit_Limit'], ax=axes[1,1])\n",
    "axes[1,1].set_title('$120K +')"
   ]
  },
  {
   "cell_type": "code",
   "execution_count": 29,
   "id": "32a0a54e",
   "metadata": {
    "execution": {
     "iopub.execute_input": "2021-10-07T09:12:35.964423Z",
     "iopub.status.busy": "2021-10-07T09:12:35.963688Z",
     "iopub.status.idle": "2021-10-07T09:12:37.273750Z",
     "shell.execute_reply": "2021-10-07T09:12:37.274280Z",
     "shell.execute_reply.started": "2021-10-04T08:29:07.346906Z"
    },
    "papermill": {
     "duration": 1.37853,
     "end_time": "2021-10-07T09:12:37.274466",
     "exception": false,
     "start_time": "2021-10-07T09:12:35.895936",
     "status": "completed"
    },
    "tags": []
   },
   "outputs": [
    {
     "data": {
      "text/plain": [
       "Text(0.5, 1.0, '$120K +')"
      ]
     },
     "execution_count": 29,
     "metadata": {},
     "output_type": "execute_result"
    },
    {
     "data": {
      "image/png": "[encoded data removed]",
      "text/plain": [
       "<Figure size 1296x720 with 6 Axes>"
      ]
     },
     "metadata": {
      "needs_background": "light"
     },
     "output_type": "display_data"
    }
   ],
   "source": [
    "fig, axes = plt.subplots(2,3,figsize=(18,10))\n",
    "sns.histplot(data[data['Income_Category'] == 'Less than $40K']['Credit_Limit'], ax=axes[0,0])\n",
    "axes[0,0].set_title('Income < $40K')\n",
    "sns.histplot(data[data['Income_Category'] == '$40K - $60K']['Credit_Limit'], ax=axes[0,1])\n",
    "axes[0,1].set_title('$40K - $60K')\n",
    "sns.histplot(data[data['Income_Category'] == '$60K - $80K']['Credit_Limit'], ax=axes[0,2])\n",
    "axes[0,2].set_title('$60K - $80K')\n",
    "sns.histplot(data[data['Income_Category'] == '$80K - $120K']['Credit_Limit'], ax=axes[1,0])\n",
    "axes[1,0].set_title('$60K - $80K')\n",
    "sns.histplot(data[data['Income_Category'] == '$120K +']['Credit_Limit'], ax=axes[1,1])\n",
    "axes[1,1].set_title('$120K +')"
   ]
  },
  {
   "cell_type": "code",
   "execution_count": 30,
   "id": "91d14f61",
   "metadata": {
    "execution": {
     "iopub.execute_input": "2021-10-07T09:12:37.402248Z",
     "iopub.status.busy": "2021-10-07T09:12:37.401431Z",
     "iopub.status.idle": "2021-10-07T09:12:37.411211Z",
     "shell.execute_reply": "2021-10-07T09:12:37.410516Z",
     "shell.execute_reply.started": "2021-10-04T08:29:08.714136Z"
    },
    "papermill": {
     "duration": 0.074876,
     "end_time": "2021-10-07T09:12:37.411401",
     "exception": false,
     "start_time": "2021-10-07T09:12:37.336525",
     "status": "completed"
    },
    "tags": []
   },
   "outputs": [
    {
     "data": {
      "text/plain": [
       "Income_Category\n",
       "$120K +           18442.0\n",
       "$40K - $60K        3682.0\n",
       "$60K - $80K        7660.0\n",
       "$80K - $120K      12830.0\n",
       "Less than $40K     2766.0\n",
       "Unknown            6380.0\n",
       "Name: Credit_Limit, dtype: float64"
      ]
     },
     "execution_count": 30,
     "metadata": {},
     "output_type": "execute_result"
    }
   ],
   "source": [
    "## There are outliers for some plots, so we'll take median as our reference to fill the unknown values in income category\n",
    "data.groupby('Income_Category')['Credit_Limit'].median()"
   ]
  },
  {
   "cell_type": "code",
   "execution_count": 31,
   "id": "d9054151",
   "metadata": {
    "execution": {
     "iopub.execute_input": "2021-10-07T09:12:37.541182Z",
     "iopub.status.busy": "2021-10-07T09:12:37.540456Z",
     "iopub.status.idle": "2021-10-07T09:12:37.564822Z",
     "shell.execute_reply": "2021-10-07T09:12:37.564269Z",
     "shell.execute_reply.started": "2021-10-04T08:29:08.730011Z"
    },
    "papermill": {
     "duration": 0.09,
     "end_time": "2021-10-07T09:12:37.564996",
     "exception": false,
     "start_time": "2021-10-07T09:12:37.474996",
     "status": "completed"
    },
    "tags": []
   },
   "outputs": [
    {
     "data": {
      "text/plain": [
       "Less than $40K    3780\n",
       "$40K - $60K       1920\n",
       "$80K - $120K      1753\n",
       "$60K - $80K       1680\n",
       "$120K +            994\n",
       "Name: Income_Category, dtype: int64"
      ]
     },
     "execution_count": 31,
     "metadata": {},
     "output_type": "execute_result"
    }
   ],
   "source": [
    "income = []\n",
    "for i,j in zip(data['Credit_Limit'], data['Income_Category']):\n",
    "  if j == 'Unknown':\n",
    "    if i < 2766:\n",
    "      income.append('Less than $40K')\n",
    "    elif i < 3682:\n",
    "      income.append('$40K - $60K')\n",
    "    elif i < 7660:\n",
    "      income.append('$60K - $80K')\n",
    "    elif i < 12830:\n",
    "      income.append('$80K - $120K')\n",
    "    else:\n",
    "      income.append('$120K +')\n",
    "  else:\n",
    "    income.append(j)\n",
    "\n",
    "\n",
    "income = np.array(income)\n",
    "data['Income_Category'] = income\n",
    "\n",
    "\n",
    "data['Income_Category'].value_counts()"
   ]
  },
  {
   "cell_type": "code",
   "execution_count": 32,
   "id": "39e6cf93",
   "metadata": {
    "execution": {
     "iopub.execute_input": "2021-10-07T09:12:37.695037Z",
     "iopub.status.busy": "2021-10-07T09:12:37.694365Z",
     "iopub.status.idle": "2021-10-07T09:12:37.719544Z",
     "shell.execute_reply": "2021-10-07T09:12:37.718942Z",
     "shell.execute_reply.started": "2021-10-04T08:29:08.766517Z"
    },
    "papermill": {
     "duration": 0.091245,
     "end_time": "2021-10-07T09:12:37.719686",
     "exception": false,
     "start_time": "2021-10-07T09:12:37.628441",
     "status": "completed"
    },
    "tags": []
   },
   "outputs": [
    {
     "name": "stdout",
     "output_type": "stream",
     "text": [
      "Income_Category  $120K +  $40K - $60K  $60K - $80K  $80K - $120K  \\\n",
      "Education_Level                                                    \n",
      "College               90          193          165           196   \n",
      "Doctorate             53           74           80            70   \n",
      "Graduate             281          590          502           551   \n",
      "High School          202          379          363           361   \n",
      "Post-Graduate         47          117           89            85   \n",
      "Uneducated           163          279          238           246   \n",
      "Unknown              158          288          243           244   \n",
      "\n",
      "Income_Category  Less than $40K  \n",
      "Education_Level                  \n",
      "College                     369  \n",
      "Doctorate                   174  \n",
      "Graduate                   1204  \n",
      "High School                 708  \n",
      "Post-Graduate               178  \n",
      "Uneducated                  561  \n",
      "Unknown                     586  \n"
     ]
    }
   ],
   "source": [
    "contingency = pd.crosstab(index=data['Education_Level'], columns=data['Income_Category'])\n",
    "print(contingency)"
   ]
  },
  {
   "cell_type": "code",
   "execution_count": 33,
   "id": "3c2889e0",
   "metadata": {
    "execution": {
     "iopub.execute_input": "2021-10-07T09:12:37.854018Z",
     "iopub.status.busy": "2021-10-07T09:12:37.853075Z",
     "iopub.status.idle": "2021-10-07T09:12:37.856401Z",
     "shell.execute_reply": "2021-10-07T09:12:37.856937Z",
     "shell.execute_reply.started": "2021-10-04T08:29:08.801514Z"
    },
    "papermill": {
     "duration": 0.074409,
     "end_time": "2021-10-07T09:12:37.857110",
     "exception": false,
     "start_time": "2021-10-07T09:12:37.782701",
     "status": "completed"
    },
    "tags": []
   },
   "outputs": [
    {
     "name": "stdout",
     "output_type": "stream",
     "text": [
      "7.121527968030152 0.12960371450535793\n"
     ]
    }
   ],
   "source": [
    "(chi2, p, dof,_) = stats.chi2_contingency([contingency.iloc[0].values,contingency.iloc[1].values])\n",
    "print(chi2, p)"
   ]
  },
  {
   "cell_type": "code",
   "execution_count": 34,
   "id": "155ddce3",
   "metadata": {
    "execution": {
     "iopub.execute_input": "2021-10-07T09:12:37.989275Z",
     "iopub.status.busy": "2021-10-07T09:12:37.988277Z",
     "iopub.status.idle": "2021-10-07T09:12:37.999129Z",
     "shell.execute_reply": "2021-10-07T09:12:37.999599Z",
     "shell.execute_reply.started": "2021-10-04T08:29:08.810529Z"
    },
    "papermill": {
     "duration": 0.078707,
     "end_time": "2021-10-07T09:12:37.999779",
     "exception": false,
     "start_time": "2021-10-07T09:12:37.921072",
     "status": "completed"
    },
    "tags": []
   },
   "outputs": [
    {
     "data": {
      "text/plain": [
       "Education_Level\n",
       "College          4255.806515\n",
       "Doctorate        4193.015521\n",
       "Graduate         4418.491368\n",
       "High School      4403.740189\n",
       "Post-Graduate    4515.414729\n",
       "Uneducated       4484.340955\n",
       "Unknown          4420.053325\n",
       "Name: Total_Trans_Amt, dtype: float64"
      ]
     },
     "execution_count": 34,
     "metadata": {},
     "output_type": "execute_result"
    }
   ],
   "source": [
    "data.groupby('Education_Level')['Total_Trans_Amt'].mean()"
   ]
  },
  {
   "cell_type": "code",
   "execution_count": 35,
   "id": "b76aa69b",
   "metadata": {
    "execution": {
     "iopub.execute_input": "2021-10-07T09:12:38.165263Z",
     "iopub.status.busy": "2021-10-07T09:12:38.164247Z",
     "iopub.status.idle": "2021-10-07T09:12:38.431410Z",
     "shell.execute_reply": "2021-10-07T09:12:38.430849Z",
     "shell.execute_reply.started": "2021-10-04T08:29:08.837178Z"
    },
    "papermill": {
     "duration": 0.355576,
     "end_time": "2021-10-07T09:12:38.431560",
     "exception": false,
     "start_time": "2021-10-07T09:12:38.075984",
     "status": "completed"
    },
    "tags": []
   },
   "outputs": [
    {
     "name": "stderr",
     "output_type": "stream",
     "text": [
      "/opt/conda/lib/python3.7/site-packages/seaborn/_decorators.py:43: FutureWarning:\n",
      "\n",
      "Pass the following variable as a keyword arg: x. From version 0.12, the only valid positional argument will be `data`, and passing other arguments without an explicit keyword will result in an error or misinterpretation.\n",
      "\n"
     ]
    },
    {
     "data": {
      "text/plain": [
       "<AxesSubplot:xlabel='Education_Level', ylabel='count'>"
      ]
     },
     "execution_count": 35,
     "metadata": {},
     "output_type": "execute_result"
    },
    {
     "data": {
      "image/png": "[encoded data removed]",
      "text/plain": [
       "<Figure size 792x504 with 1 Axes>"
      ]
     },
     "metadata": {
      "needs_background": "light"
     },
     "output_type": "display_data"
    }
   ],
   "source": [
    "plt.figure(figsize=(11,7))\n",
    "sns.countplot(data['Education_Level'])"
   ]
  },
  {
   "cell_type": "code",
   "execution_count": 36,
   "id": "2588e435",
   "metadata": {
    "execution": {
     "iopub.execute_input": "2021-10-07T09:12:38.577037Z",
     "iopub.status.busy": "2021-10-07T09:12:38.575679Z",
     "iopub.status.idle": "2021-10-07T09:12:38.609214Z",
     "shell.execute_reply": "2021-10-07T09:12:38.608560Z",
     "shell.execute_reply.started": "2021-10-04T08:29:09.125148Z"
    },
    "papermill": {
     "duration": 0.112979,
     "end_time": "2021-10-07T09:12:38.609360",
     "exception": false,
     "start_time": "2021-10-07T09:12:38.496381",
     "status": "completed"
    },
    "tags": []
   },
   "outputs": [],
   "source": [
    "education_mapper = {'Unknown':0, 'Uneducated':1, 'High School':2, 'College':3, 'Graduate':4, 'Post-Graduate':5, 'Doctorate':6} \n",
    "income_mapper = {'Less than $40K':0, '$40K - $60K':1, '$60K - $80K':2, '$80K - $120K':3, '$120K +':4}\n",
    "card_mapper = {'Blue':0, 'Silver':1, 'Gold':2, 'Platinum':3}\n",
    "\n",
    "data['Education_Level'] = data['Education_Level'].replace(education_mapper)\n",
    "data['Income_Category'] = data['Income_Category'].replace(income_mapper)\n",
    "data['Card_Category'] = data['Card_Category'].replace(card_mapper)"
   ]
  },
  {
   "cell_type": "code",
   "execution_count": 37,
   "id": "0bd28be8",
   "metadata": {
    "execution": {
     "iopub.execute_input": "2021-10-07T09:12:38.748946Z",
     "iopub.status.busy": "2021-10-07T09:12:38.747837Z",
     "iopub.status.idle": "2021-10-07T09:12:38.761918Z",
     "shell.execute_reply": "2021-10-07T09:12:38.761308Z",
     "shell.execute_reply.started": "2021-10-04T08:29:09.171163Z"
    },
    "papermill": {
     "duration": 0.086416,
     "end_time": "2021-10-07T09:12:38.762064",
     "exception": false,
     "start_time": "2021-10-07T09:12:38.675648",
     "status": "completed"
    },
    "tags": []
   },
   "outputs": [],
   "source": [
    "x = data.iloc[:,1:]\n",
    "y = data.iloc[:,0]\n",
    "x = np.array(x)\n",
    "y = np.array(y)"
   ]
  },
  {
   "cell_type": "code",
   "execution_count": 38,
   "id": "cd4074f8",
   "metadata": {
    "execution": {
     "iopub.execute_input": "2021-10-07T09:12:38.905382Z",
     "iopub.status.busy": "2021-10-07T09:12:38.904700Z",
     "iopub.status.idle": "2021-10-07T09:12:38.907932Z",
     "shell.execute_reply": "2021-10-07T09:12:38.907338Z",
     "shell.execute_reply.started": "2021-10-04T08:29:09.19696Z"
    },
    "papermill": {
     "duration": 0.077783,
     "end_time": "2021-10-07T09:12:38.908072",
     "exception": false,
     "start_time": "2021-10-07T09:12:38.830289",
     "status": "completed"
    },
    "tags": []
   },
   "outputs": [],
   "source": [
    "le = LabelEncoder()\n",
    "x[:,1] = le.fit_transform(x[:,1])"
   ]
  },
  {
   "cell_type": "code",
   "execution_count": 39,
   "id": "c9981d59",
   "metadata": {
    "execution": {
     "iopub.execute_input": "2021-10-07T09:12:39.042196Z",
     "iopub.status.busy": "2021-10-07T09:12:39.041572Z",
     "iopub.status.idle": "2021-10-07T09:12:39.057128Z",
     "shell.execute_reply": "2021-10-07T09:12:39.057726Z",
     "shell.execute_reply.started": "2021-10-04T08:29:09.20844Z"
    },
    "papermill": {
     "duration": 0.083829,
     "end_time": "2021-10-07T09:12:39.057927",
     "exception": false,
     "start_time": "2021-10-07T09:12:38.974098",
     "status": "completed"
    },
    "tags": []
   },
   "outputs": [],
   "source": [
    "ct = ColumnTransformer(transformers=[('encoder',OneHotEncoder(),[4])], remainder='passthrough')\n",
    "x = ct.fit_transform(x)"
   ]
  },
  {
   "cell_type": "code",
   "execution_count": 40,
   "id": "f3fe1706",
   "metadata": {
    "execution": {
     "iopub.execute_input": "2021-10-07T09:12:39.191547Z",
     "iopub.status.busy": "2021-10-07T09:12:39.190775Z",
     "iopub.status.idle": "2021-10-07T09:12:39.197697Z",
     "shell.execute_reply": "2021-10-07T09:12:39.198230Z",
     "shell.execute_reply.started": "2021-10-04T08:29:09.235566Z"
    },
    "papermill": {
     "duration": 0.075487,
     "end_time": "2021-10-07T09:12:39.198402",
     "exception": false,
     "start_time": "2021-10-07T09:12:39.122915",
     "status": "completed"
    },
    "tags": []
   },
   "outputs": [],
   "source": [
    "y = le.fit_transform(y)"
   ]
  },
  {
   "cell_type": "code",
   "execution_count": 41,
   "id": "1d345f32",
   "metadata": {
    "execution": {
     "iopub.execute_input": "2021-10-07T09:12:39.331772Z",
     "iopub.status.busy": "2021-10-07T09:12:39.331108Z",
     "iopub.status.idle": "2021-10-07T09:12:39.349802Z",
     "shell.execute_reply": "2021-10-07T09:12:39.350305Z",
     "shell.execute_reply.started": "2021-10-04T08:29:09.245026Z"
    },
    "papermill": {
     "duration": 0.087277,
     "end_time": "2021-10-07T09:12:39.350493",
     "exception": false,
     "start_time": "2021-10-07T09:12:39.263216",
     "status": "completed"
    },
    "tags": []
   },
   "outputs": [],
   "source": [
    "x_train, x_test,  y_train, y_test = train_test_split(x,y, test_size=0.2,stratify=y)"
   ]
  },
  {
   "cell_type": "code",
   "execution_count": 42,
   "id": "7173c051",
   "metadata": {
    "execution": {
     "iopub.execute_input": "2021-10-07T09:12:39.483312Z",
     "iopub.status.busy": "2021-10-07T09:12:39.482625Z",
     "iopub.status.idle": "2021-10-07T09:12:39.530210Z",
     "shell.execute_reply": "2021-10-07T09:12:39.529616Z",
     "shell.execute_reply.started": "2021-10-04T08:29:09.275947Z"
    },
    "papermill": {
     "duration": 0.115006,
     "end_time": "2021-10-07T09:12:39.530372",
     "exception": false,
     "start_time": "2021-10-07T09:12:39.415366",
     "status": "completed"
    },
    "tags": []
   },
   "outputs": [],
   "source": [
    "sc = StandardScaler()\n",
    "x_train = sc.fit_transform(x_train)\n",
    "x_test = sc.fit_transform(x_test)"
   ]
  },
  {
   "cell_type": "code",
   "execution_count": 43,
   "id": "226fc0fe",
   "metadata": {
    "execution": {
     "iopub.execute_input": "2021-10-07T09:12:39.699108Z",
     "iopub.status.busy": "2021-10-07T09:12:39.698370Z",
     "iopub.status.idle": "2021-10-07T09:12:39.752899Z",
     "shell.execute_reply": "2021-10-07T09:12:39.753765Z",
     "shell.execute_reply.started": "2021-10-04T08:29:35.380637Z"
    },
    "papermill": {
     "duration": 0.14024,
     "end_time": "2021-10-07T09:12:39.754055",
     "exception": false,
     "start_time": "2021-10-07T09:12:39.613815",
     "status": "completed"
    },
    "tags": []
   },
   "outputs": [
    {
     "data": {
      "text/plain": [
       "LogisticRegression()"
      ]
     },
     "execution_count": 43,
     "metadata": {},
     "output_type": "execute_result"
    }
   ],
   "source": [
    "lr = LogisticRegression()\n",
    "lr.fit(x_train,y_train)"
   ]
  },
  {
   "cell_type": "code",
   "execution_count": 44,
   "id": "70386e53",
   "metadata": {
    "execution": {
     "iopub.execute_input": "2021-10-07T09:12:39.942095Z",
     "iopub.status.busy": "2021-10-07T09:12:39.941393Z",
     "iopub.status.idle": "2021-10-07T09:12:39.958891Z",
     "shell.execute_reply": "2021-10-07T09:12:39.959772Z",
     "shell.execute_reply.started": "2021-10-04T08:38:19.27777Z"
    },
    "papermill": {
     "duration": 0.089258,
     "end_time": "2021-10-07T09:12:39.960061",
     "exception": false,
     "start_time": "2021-10-07T09:12:39.870803",
     "status": "completed"
    },
    "tags": []
   },
   "outputs": [
    {
     "name": "stdout",
     "output_type": "stream",
     "text": [
      "[[ 183  142]\n",
      " [  57 1644]]\n"
     ]
    },
    {
     "data": {
      "text/plain": [
       "0.9017769002961501"
      ]
     },
     "execution_count": 44,
     "metadata": {},
     "output_type": "execute_result"
    }
   ],
   "source": [
    "ypred_log = lr.predict(x_test)\n",
    "cm = confusion_matrix(y_test, ypred_log)\n",
    "print(cm)\n",
    "accuracy_score(y_test, ypred_log)"
   ]
  },
  {
   "cell_type": "code",
   "execution_count": 45,
   "id": "ff89d801",
   "metadata": {
    "execution": {
     "iopub.execute_input": "2021-10-07T09:12:40.143572Z",
     "iopub.status.busy": "2021-10-07T09:12:40.142868Z",
     "iopub.status.idle": "2021-10-07T09:12:41.479649Z",
     "shell.execute_reply": "2021-10-07T09:12:41.479012Z",
     "shell.execute_reply.started": "2021-10-04T08:29:58.914902Z"
    },
    "papermill": {
     "duration": 1.40627,
     "end_time": "2021-10-07T09:12:41.479792",
     "exception": false,
     "start_time": "2021-10-07T09:12:40.073522",
     "status": "completed"
    },
    "tags": []
   },
   "outputs": [
    {
     "data": {
      "text/plain": [
       "RandomForestClassifier()"
      ]
     },
     "execution_count": 45,
     "metadata": {},
     "output_type": "execute_result"
    }
   ],
   "source": [
    "rfc = RandomForestClassifier()\n",
    "rfc.fit(x_train,y_train)"
   ]
  },
  {
   "cell_type": "code",
   "execution_count": 46,
   "id": "bc74ca4d",
   "metadata": {
    "execution": {
     "iopub.execute_input": "2021-10-07T09:12:41.615026Z",
     "iopub.status.busy": "2021-10-07T09:12:41.614342Z",
     "iopub.status.idle": "2021-10-07T09:12:41.661396Z",
     "shell.execute_reply": "2021-10-07T09:12:41.662386Z",
     "shell.execute_reply.started": "2021-10-04T08:30:14.956007Z"
    },
    "papermill": {
     "duration": 0.116888,
     "end_time": "2021-10-07T09:12:41.662656",
     "exception": false,
     "start_time": "2021-10-07T09:12:41.545768",
     "status": "completed"
    },
    "tags": []
   },
   "outputs": [
    {
     "name": "stdout",
     "output_type": "stream",
     "text": [
      "[[ 264   61]\n",
      " [  26 1675]]\n",
      "0.9570582428430404\n"
     ]
    }
   ],
   "source": [
    "ypred_rfc = rfc.predict(x_test)\n",
    "cm_rfc = confusion_matrix(y_test, ypred_rfc)\n",
    "print(cm_rfc)\n",
    "print(accuracy_score(y_test, ypred_rfc))"
   ]
  }
 ],
 "metadata": {
  "kernelspec": {
   "display_name": "Python 3",
   "language": "python",
   "name": "python3"
  },
  "language_info": {
   "codemirror_mode": {
    "name": "ipython",
    "version": 3
   },
   "file_extension": ".py",
   "mimetype": "text/x-python",
   "name": "python",
   "nbconvert_exporter": "python",
   "pygments_lexer": "ipython3",
   "version": "3.7.10"
  },
  "papermill": {
   "default_parameters": {},
   "duration": 24.842265,
   "end_time": "2021-10-07T09:12:43.184873",
   "environment_variables": {},
   "exception": null,
   "input_path": "__notebook__.ipynb",
   "output_path": "__notebook__.ipynb",
   "parameters": {},
   "start_time": "2021-10-07T09:12:18.342608",
   "version": "2.3.3"
  }
 },
 "nbformat": 4,
 "nbformat_minor": 5
}
